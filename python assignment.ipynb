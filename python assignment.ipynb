{
 "cells": [
  {
   "cell_type": "code",
   "execution_count": null,
   "metadata": {},
   "outputs": [],
   "source": [
    "# Function to calculate the sum and average of three float numbers\n",
    "def calculate_sum_and_average(num1, num2, num3):\n",
    "    # Calculate the sum of the numbers\n",
    "    total_sum = num1 + num2 + num3\n",
    "    # Calculate the average\n",
    "    average = total_sum / 3\n",
    "    return total_sum, average\n",
    "\n",
    "# Input: Three float numbers\n",
    "number1 = float(input(\"Enter the first number: \"))\n",
    "number2 = float(input(\"Enter the second number: \"))\n",
    "number3 = float(input(\"Enter the third number: \"))\n",
    "\n",
    "# Calculate sum and average\n",
    "sum_of_numbers, avg_of_numbers = calculate_sum_and_average(number1, number2, number3)\n",
    "\n",
    "# Output: Display the sum and average\n",
    "print(f\"The sum of the three numbers is: {sum_of_numbers}\")\n",
    "print(f\"The average of the three numbers is: {avg_of_numbers}\")\n"
   ]
  }
 ],
 "metadata": {
  "language_info": {
   "name": "python"
  }
 },
 "nbformat": 4,
 "nbformat_minor": 2
}
